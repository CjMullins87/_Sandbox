{
 "cells": [
  {
   "cell_type": "code",
   "execution_count": 1,
   "metadata": {},
   "outputs": [],
   "source": [
    "def bayes(P_BA, PA, PB):\n",
    "    P_AB = (P_BA * PA)/PB\n",
    "    return P_AB"
   ]
  },
  {
   "cell_type": "code",
   "execution_count": 2,
   "metadata": {},
   "outputs": [
    {
     "data": {
      "text/plain": [
       "1.3333333333333335"
      ]
     },
     "execution_count": 2,
     "metadata": {},
     "output_type": "execute_result"
    }
   ],
   "source": [
    "bayes(1, 0.2, 0.15)"
   ]
  },
  {
   "cell_type": "markdown",
   "metadata": {},
   "source": [
    "* generate a random integer between one and three to represent the door hiding the car. \n",
    "* generate a second integer between one and three representing the player's selection.\n",
    "* Then, of those the contestant did not choose, select a door concealing a goat to reveal. \n",
    "* Record the results of the simulated game if they changed versus if they did not. \n",
    "* Repeat this process a thousand (or more) times. \n",
    "* Finally, plot the results of your simulation as a line graph. The x-axis should be the number of simulations, and the y-axis should be the probability of winning. (There should be two lines on the graph, one for switching doors, and the other for keeping the original selection.)"
   ]
  },
  {
   "cell_type": "code",
   "execution_count": 6,
   "metadata": {},
   "outputs": [],
   "source": [
    "import random as rand"
   ]
  },
  {
   "cell_type": "code",
   "execution_count": 134,
   "metadata": {},
   "outputs": [
    {
     "name": "stdout",
     "output_type": "stream",
     "text": [
      "Probability of winning w/ initial choice: 0.33\n",
      "Probability of winning w/ switch choice: 0.67\n"
     ]
    }
   ],
   "source": [
    "Initial_choice_result = []\n",
    "Switch_choice_result = []\n",
    "\n",
    "for i in range(1000):\n",
    "\n",
    "    #Game Setup\n",
    "    doors = list(range(1,4)) #All possibilities\n",
    "    win = rand.randint(1,3) #Win condition\n",
    "    goats = [door for door in doors if door != win] #Lose condition\n",
    "\n",
    "    #The Game\n",
    "    first_choice = rand.randint(1,3) #Your selection\n",
    "    reveal = rand.sample([door for door in goats if door != first_choice], 1) #Host reveal\n",
    "    switch_choice = [door for door in doors if door != reveal[0] and door != first_choice] #Remaining Choice\n",
    "\n",
    "    #Result\n",
    "    if first_choice == win:\n",
    "        Initial_choice_result.append(1)\n",
    "        Switch_choice_result.append(0)\n",
    "    if switch_choice[0] == win:\n",
    "        Initial_choice_result.append(0)\n",
    "        Switch_choice_result.append(1)    \n",
    "        \n",
    "print('Probability of winning w/ initial choice:', sum(Initial_choice_result)/1000)\n",
    "print('Probability of winning w/ switch choice:', sum(Switch_choice_result)/1000)"
   ]
  },
  {
   "cell_type": "code",
   "execution_count": 129,
   "metadata": {},
   "outputs": [
    {
     "data": {
      "text/plain": [
       "[1, 2, 3]"
      ]
     },
     "execution_count": 129,
     "metadata": {},
     "output_type": "execute_result"
    }
   ],
   "source": [
    "doors"
   ]
  },
  {
   "cell_type": "code",
   "execution_count": 131,
   "metadata": {},
   "outputs": [
    {
     "data": {
      "text/plain": [
       "1"
      ]
     },
     "execution_count": 131,
     "metadata": {},
     "output_type": "execute_result"
    }
   ],
   "source": [
    "win"
   ]
  },
  {
   "cell_type": "code",
   "execution_count": 132,
   "metadata": {},
   "outputs": [
    {
     "data": {
      "text/plain": [
       "[0, 0]"
      ]
     },
     "execution_count": 132,
     "metadata": {},
     "output_type": "execute_result"
    }
   ],
   "source": [
    "goats"
   ]
  },
  {
   "cell_type": "code",
   "execution_count": 120,
   "metadata": {},
   "outputs": [
    {
     "data": {
      "text/plain": [
       "3"
      ]
     },
     "execution_count": 120,
     "metadata": {},
     "output_type": "execute_result"
    }
   ],
   "source": [
    "first_choice"
   ]
  },
  {
   "cell_type": "code",
   "execution_count": null,
   "metadata": {},
   "outputs": [],
   "source": []
  }
 ],
 "metadata": {
  "kernelspec": {
   "display_name": "Python 3",
   "language": "python",
   "name": "python3"
  },
  "language_info": {
   "codemirror_mode": {
    "name": "ipython",
    "version": 3
   },
   "file_extension": ".py",
   "mimetype": "text/x-python",
   "name": "python",
   "nbconvert_exporter": "python",
   "pygments_lexer": "ipython3",
   "version": "3.7.3"
  }
 },
 "nbformat": 4,
 "nbformat_minor": 2
}
