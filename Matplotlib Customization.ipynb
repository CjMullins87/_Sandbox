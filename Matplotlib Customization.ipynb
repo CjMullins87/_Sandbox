{
 "cells": [
  {
   "cell_type": "markdown",
   "metadata": {},
   "source": [
    "Callum wrote this article in TDS (thanks, Callum) and I'm just going to go through some of his tips."
   ]
  },
  {
   "cell_type": "code",
   "execution_count": 1,
   "metadata": {},
   "outputs": [],
   "source": [
    "# Name your hex codes as varialbles w/ strings\n",
    "\n",
    "Bou_green = '99F7CF'\n",
    "Bou_yellow = 'E9D08B'\n",
    "Bou_red = 'D27A6E'\n",
    "Bou_blue = '6F7A91'\n",
    "Bou_purple = '694E6D'"
   ]
  },
  {
   "cell_type": "code",
   "execution_count": 2,
   "metadata": {},
   "outputs": [],
   "source": [
    "bou_palette = ['Bou_green', 'Bou_yellow', 'Bou_red',\n",
    "              'Bou_blue', 'Bou_purple']"
   ]
  },
  {
   "cell_type": "code",
   "execution_count": 3,
   "metadata": {},
   "outputs": [],
   "source": [
    "import matplotlib.pyplot as plt\n",
    "import seaborn as sns"
   ]
  },
  {
   "cell_type": "code",
   "execution_count": null,
   "metadata": {},
   "outputs": [],
   "source": []
  }
 ],
 "metadata": {
  "kernelspec": {
   "display_name": "Python 3",
   "language": "python",
   "name": "python3"
  },
  "language_info": {
   "codemirror_mode": {
    "name": "ipython",
    "version": 3
   },
   "file_extension": ".py",
   "mimetype": "text/x-python",
   "name": "python",
   "nbconvert_exporter": "python",
   "pygments_lexer": "ipython3",
   "version": "3.7.3"
  }
 },
 "nbformat": 4,
 "nbformat_minor": 2
}
